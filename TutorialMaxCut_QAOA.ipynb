{
  "cells": [
    {
      "cell_type": "code",
      "source": [
        "!pip install qiskit"
      ],
      "metadata": {
        "colab": {
          "base_uri": "https://localhost:8080/"
        },
        "id": "Vplfa50EX_kC",
        "outputId": "3f97d94b-b49e-4597-ba6e-fb718c770fda"
      },
      "id": "Vplfa50EX_kC",
      "execution_count": null,
      "outputs": [
        {
          "output_type": "stream",
          "name": "stdout",
          "text": [
            "Collecting qiskit\n",
            "  Downloading qiskit-0.45.0-py3-none-any.whl (9.6 kB)\n",
            "Collecting qiskit-terra==0.45.0 (from qiskit)\n",
            "  Downloading qiskit_terra-0.45.0-cp38-abi3-manylinux_2_17_x86_64.manylinux2014_x86_64.whl (6.3 MB)\n",
            "\u001b[2K     \u001b[90m━━━━━━━━━━━━━━━━━━━━━━━━━━━━━━━━━━━━━━━━\u001b[0m \u001b[32m6.3/6.3 MB\u001b[0m \u001b[31m18.6 MB/s\u001b[0m eta \u001b[36m0:00:00\u001b[0m\n",
            "\u001b[?25hCollecting rustworkx>=0.13.0 (from qiskit-terra==0.45.0->qiskit)\n",
            "  Downloading rustworkx-0.13.2-cp310-cp310-manylinux_2_17_x86_64.manylinux2014_x86_64.whl (2.0 MB)\n",
            "\u001b[2K     \u001b[90m━━━━━━━━━━━━━━━━━━━━━━━━━━━━━━━━━━━━━━━━\u001b[0m \u001b[32m2.0/2.0 MB\u001b[0m \u001b[31m21.7 MB/s\u001b[0m eta \u001b[36m0:00:00\u001b[0m\n",
            "\u001b[?25hRequirement already satisfied: numpy<2,>=1.17 in /usr/local/lib/python3.10/dist-packages (from qiskit-terra==0.45.0->qiskit) (1.23.5)\n",
            "Collecting ply>=3.10 (from qiskit-terra==0.45.0->qiskit)\n",
            "  Downloading ply-3.11-py2.py3-none-any.whl (49 kB)\n",
            "\u001b[2K     \u001b[90m━━━━━━━━━━━━━━━━━━━━━━━━━━━━━━━━━━━━━━━━\u001b[0m \u001b[32m49.6/49.6 kB\u001b[0m \u001b[31m2.5 MB/s\u001b[0m eta \u001b[36m0:00:00\u001b[0m\n",
            "\u001b[?25hRequirement already satisfied: psutil>=5 in /usr/local/lib/python3.10/dist-packages (from qiskit-terra==0.45.0->qiskit) (5.9.5)\n",
            "Requirement already satisfied: scipy>=1.5 in /usr/local/lib/python3.10/dist-packages (from qiskit-terra==0.45.0->qiskit) (1.11.3)\n",
            "Requirement already satisfied: sympy>=1.3 in /usr/local/lib/python3.10/dist-packages (from qiskit-terra==0.45.0->qiskit) (1.12)\n",
            "Collecting dill>=0.3 (from qiskit-terra==0.45.0->qiskit)\n",
            "  Downloading dill-0.3.7-py3-none-any.whl (115 kB)\n",
            "\u001b[2K     \u001b[90m━━━━━━━━━━━━━━━━━━━━━━━━━━━━━━━━━━━━━━━━\u001b[0m \u001b[32m115.3/115.3 kB\u001b[0m \u001b[31m5.5 MB/s\u001b[0m eta \u001b[36m0:00:00\u001b[0m\n",
            "\u001b[?25hRequirement already satisfied: python-dateutil>=2.8.0 in /usr/local/lib/python3.10/dist-packages (from qiskit-terra==0.45.0->qiskit) (2.8.2)\n",
            "Collecting stevedore>=3.0.0 (from qiskit-terra==0.45.0->qiskit)\n",
            "  Downloading stevedore-5.1.0-py3-none-any.whl (49 kB)\n",
            "\u001b[2K     \u001b[90m━━━━━━━━━━━━━━━━━━━━━━━━━━━━━━━━━━━━━━━━\u001b[0m \u001b[32m49.6/49.6 kB\u001b[0m \u001b[31m3.5 MB/s\u001b[0m eta \u001b[36m0:00:00\u001b[0m\n",
            "\u001b[?25hCollecting symengine<0.10,>=0.9 (from qiskit-terra==0.45.0->qiskit)\n",
            "  Downloading symengine-0.9.2-cp310-cp310-manylinux2010_x86_64.whl (37.5 MB)\n",
            "\u001b[2K     \u001b[90m━━━━━━━━━━━━━━━━━━━━━━━━━━━━━━━━━━━━━━━━\u001b[0m \u001b[32m37.5/37.5 MB\u001b[0m \u001b[31m13.9 MB/s\u001b[0m eta \u001b[36m0:00:00\u001b[0m\n",
            "\u001b[?25hRequirement already satisfied: typing-extensions in /usr/local/lib/python3.10/dist-packages (from qiskit-terra==0.45.0->qiskit) (4.5.0)\n",
            "Requirement already satisfied: six>=1.5 in /usr/local/lib/python3.10/dist-packages (from python-dateutil>=2.8.0->qiskit-terra==0.45.0->qiskit) (1.16.0)\n",
            "Collecting pbr!=2.1.0,>=2.0.0 (from stevedore>=3.0.0->qiskit-terra==0.45.0->qiskit)\n",
            "  Downloading pbr-6.0.0-py2.py3-none-any.whl (107 kB)\n",
            "\u001b[2K     \u001b[90m━━━━━━━━━━━━━━━━━━━━━━━━━━━━━━━━━━━━━━━━\u001b[0m \u001b[32m107.5/107.5 kB\u001b[0m \u001b[31m11.5 MB/s\u001b[0m eta \u001b[36m0:00:00\u001b[0m\n",
            "\u001b[?25hRequirement already satisfied: mpmath>=0.19 in /usr/local/lib/python3.10/dist-packages (from sympy>=1.3->qiskit-terra==0.45.0->qiskit) (1.3.0)\n",
            "Installing collected packages: ply, symengine, rustworkx, pbr, dill, stevedore, qiskit-terra, qiskit\n",
            "Successfully installed dill-0.3.7 pbr-6.0.0 ply-3.11 qiskit-0.45.0 qiskit-terra-0.45.0 rustworkx-0.13.2 stevedore-5.1.0 symengine-0.9.2\n"
          ]
        }
      ]
    },
    {
      "cell_type": "code",
      "source": [
        "!pip install qiskit-aer"
      ],
      "metadata": {
        "colab": {
          "base_uri": "https://localhost:8080/"
        },
        "id": "jybMVyP1bBA3",
        "outputId": "84a08e2e-8beb-4cbe-8889-7f1baf18ddde"
      },
      "id": "jybMVyP1bBA3",
      "execution_count": null,
      "outputs": [
        {
          "output_type": "stream",
          "name": "stdout",
          "text": [
            "Collecting qiskit-aer\n",
            "  Downloading qiskit_aer-0.13.0-cp310-cp310-manylinux_2_17_x86_64.manylinux2014_x86_64.whl (12.3 MB)\n",
            "\u001b[2K     \u001b[90m━━━━━━━━━━━━━━━━━━━━━━━━━━━━━━━━━━━━━━━━\u001b[0m \u001b[32m12.3/12.3 MB\u001b[0m \u001b[31m24.5 MB/s\u001b[0m eta \u001b[36m0:00:00\u001b[0m\n",
            "\u001b[?25hRequirement already satisfied: qiskit>=0.44.0 in /usr/local/lib/python3.10/dist-packages (from qiskit-aer) (0.45.0)\n",
            "Requirement already satisfied: numpy>=1.16.3 in /usr/local/lib/python3.10/dist-packages (from qiskit-aer) (1.23.5)\n",
            "Requirement already satisfied: scipy>=1.0 in /usr/local/lib/python3.10/dist-packages (from qiskit-aer) (1.11.3)\n",
            "Requirement already satisfied: qiskit-terra==0.45.0 in /usr/local/lib/python3.10/dist-packages (from qiskit>=0.44.0->qiskit-aer) (0.45.0)\n",
            "Requirement already satisfied: rustworkx>=0.13.0 in /usr/local/lib/python3.10/dist-packages (from qiskit-terra==0.45.0->qiskit>=0.44.0->qiskit-aer) (0.13.2)\n",
            "Requirement already satisfied: ply>=3.10 in /usr/local/lib/python3.10/dist-packages (from qiskit-terra==0.45.0->qiskit>=0.44.0->qiskit-aer) (3.11)\n",
            "Requirement already satisfied: psutil>=5 in /usr/local/lib/python3.10/dist-packages (from qiskit-terra==0.45.0->qiskit>=0.44.0->qiskit-aer) (5.9.5)\n",
            "Requirement already satisfied: sympy>=1.3 in /usr/local/lib/python3.10/dist-packages (from qiskit-terra==0.45.0->qiskit>=0.44.0->qiskit-aer) (1.12)\n",
            "Requirement already satisfied: dill>=0.3 in /usr/local/lib/python3.10/dist-packages (from qiskit-terra==0.45.0->qiskit>=0.44.0->qiskit-aer) (0.3.7)\n",
            "Requirement already satisfied: python-dateutil>=2.8.0 in /usr/local/lib/python3.10/dist-packages (from qiskit-terra==0.45.0->qiskit>=0.44.0->qiskit-aer) (2.8.2)\n",
            "Requirement already satisfied: stevedore>=3.0.0 in /usr/local/lib/python3.10/dist-packages (from qiskit-terra==0.45.0->qiskit>=0.44.0->qiskit-aer) (5.1.0)\n",
            "Requirement already satisfied: symengine<0.10,>=0.9 in /usr/local/lib/python3.10/dist-packages (from qiskit-terra==0.45.0->qiskit>=0.44.0->qiskit-aer) (0.9.2)\n",
            "Requirement already satisfied: typing-extensions in /usr/local/lib/python3.10/dist-packages (from qiskit-terra==0.45.0->qiskit>=0.44.0->qiskit-aer) (4.5.0)\n",
            "Requirement already satisfied: six>=1.5 in /usr/local/lib/python3.10/dist-packages (from python-dateutil>=2.8.0->qiskit-terra==0.45.0->qiskit>=0.44.0->qiskit-aer) (1.16.0)\n",
            "Requirement already satisfied: pbr!=2.1.0,>=2.0.0 in /usr/local/lib/python3.10/dist-packages (from stevedore>=3.0.0->qiskit-terra==0.45.0->qiskit>=0.44.0->qiskit-aer) (6.0.0)\n",
            "Requirement already satisfied: mpmath>=0.19 in /usr/local/lib/python3.10/dist-packages (from sympy>=1.3->qiskit-terra==0.45.0->qiskit>=0.44.0->qiskit-aer) (1.3.0)\n",
            "Installing collected packages: qiskit-aer\n",
            "Successfully installed qiskit-aer-0.13.0\n"
          ]
        }
      ]
    },
    {
      "cell_type": "code",
      "source": [
        "import networkx as nx"
      ],
      "metadata": {
        "id": "5UVxwDUd78Cd"
      },
      "id": "5UVxwDUd78Cd",
      "execution_count": null,
      "outputs": []
    },
    {
      "cell_type": "code",
      "execution_count": null,
      "id": "3c5b44a6-2526-4745-b59d-2483dc25fcc7",
      "metadata": {
        "id": "3c5b44a6-2526-4745-b59d-2483dc25fcc7"
      },
      "outputs": [],
      "source": [
        "import qiskit\n",
        "import numpy as np\n",
        "from qiskit.providers.fake_provider import *\n",
        "import networkx as nx\n",
        "from scipy.optimize import minimize\n",
        "from qiskit import QuantumCircuit, execute, Aer, QuantumRegister\n",
        "import matplotlib.pyplot as plt"
      ]
    },
    {
      "cell_type": "code",
      "execution_count": null,
      "id": "6eb86538-8684-484a-ab52-835a84611e6e",
      "metadata": {
        "id": "6eb86538-8684-484a-ab52-835a84611e6e"
      },
      "outputs": [],
      "source": [
        "# 3-regular graph with six nodes\n",
        "G = nx.random_regular_graph(d=3, n=6, seed=12345)"
      ]
    },
    {
      "cell_type": "code",
      "execution_count": null,
      "id": "b3f0e9db-6309-4df8-aa63-5d008c06a580",
      "metadata": {
        "id": "b3f0e9db-6309-4df8-aa63-5d008c06a580"
      },
      "outputs": [],
      "source": [
        "# Hamiltonian layer\n",
        "def zz_term(qc, q1, q2, gamma):\n",
        "    qc.cx(q1,q2)\n",
        "    qc.rz(2*gamma, q2)\n",
        "    qc.cx(q1,q2)\n",
        "\n",
        "def get_cost_circuit(qc, G, gamma):\n",
        "    N = G.number_of_nodes()\n",
        "    for i, j in G.edges():\n",
        "        zz_term(qc, i, j, gamma)\n",
        "    return qc"
      ]
    },
    {
      "cell_type": "code",
      "execution_count": null,
      "id": "8305078a-2fda-4668-b440-0830af21f395",
      "metadata": {
        "id": "8305078a-2fda-4668-b440-0830af21f395"
      },
      "outputs": [],
      "source": [
        "# Mixer layer\n",
        "def x_term(qc, q1, beta):\n",
        "    qc.rx(2*beta, q1)\n",
        "\n",
        "\n",
        "def get_mixer_circuit(qc, G, beta):\n",
        "    N = G.number_of_nodes()\n",
        "    for n in G.nodes():\n",
        "        x_term(qc, n, beta)\n",
        "    return qc"
      ]
    },
    {
      "cell_type": "code",
      "execution_count": null,
      "id": "84b0db76-1aae-4c3b-a70c-607cd3ca4e63",
      "metadata": {
        "id": "84b0db76-1aae-4c3b-a70c-607cd3ca4e63"
      },
      "outputs": [],
      "source": [
        "# Combine two layers and get the QAOA circuit\n",
        "def get_qaoa_circuit(G, beta, gamma):\n",
        "    p = 1 # infering number of QAOA steps from the parameters passed\n",
        "    N = G.number_of_nodes()\n",
        "    qc = QuantumCircuit(N,N)\n",
        "    # get the initial state\n",
        "    qc.h(range(N))\n",
        "    # second, apply p alternating operators\n",
        "    for i in range(p):\n",
        "        qc = get_cost_circuit(qc,G,gamma[i])\n",
        "        qc = get_mixer_circuit(qc,G,beta)\n",
        "    # finally, do not forget to measure the result!\n",
        "    qc.barrier(range(N))\n",
        "    qc.measure(range(N), range(N))\n",
        "    return qc\n",
        "\n",
        "def measure_circuit(qc, n_trials=1024):\n",
        "    \"\"\"Get the output from circuit, either measured samples or full state vector\"\"\"\n",
        "    backend = Aer.get_backend('qasm_simulator')\n",
        "    job = execute(qc, backend, shots=n_trials)\n",
        "    result = job.result()\n",
        "    bitstrings = invert_counts(result.get_counts())\n",
        "    return bitstrings"
      ]
    },
    {
      "cell_type": "code",
      "execution_count": null,
      "id": "97ce9648-4569-435f-8e12-13fe6f9ab1f7",
      "metadata": {
        "id": "97ce9648-4569-435f-8e12-13fe6f9ab1f7"
      },
      "outputs": [],
      "source": [
        "# define the objective function\n",
        "def invert_counts(counts):\n",
        "    return {k[::-1]:v for k, v in counts.items()}\n",
        "\n",
        "def maxcut_obj(x,G):\n",
        "    ''' calculate energy from one bitstring '''\n",
        "    cut = 0\n",
        "    for i, j in G.edges():\n",
        "        if x[i] != x[j]:\n",
        "            # the edge is cut\n",
        "            cut -= 1\n",
        "    return cut\n",
        "\n",
        "def compute_maxcut_energy(counts, G):\n",
        "    ''' calculate energy from samples '''\n",
        "    energy = 0\n",
        "    total_counts = 0\n",
        "    for meas, meas_count in counts.items():\n",
        "        obj_for_meas = maxcut_obj(meas, G)\n",
        "        energy += obj_for_meas * meas_count\n",
        "        total_counts += meas_count\n",
        "    return energy / total_counts\n",
        "\n",
        "def get_black_box_objective(G,p):\n",
        "    backend = Aer.get_backend('qasm_simulator')\n",
        "    def f(theta):\n",
        "        # first half is betas, second half is gammas\n",
        "        beta = theta[:p][0]\n",
        "        gamma = theta[p:]\n",
        "        ## define the qaoa circuit\n",
        "        qc = get_qaoa_circuit(G,beta, gamma)\n",
        "        counts = measure_circuit(qc, n_trials=1024)\n",
        "        # return the energy\n",
        "        return compute_maxcut_energy(counts, G)\n",
        "    return f"
      ]
    },
    {
      "cell_type": "code",
      "source": [
        "seed_value = 42\n",
        "np.random.seed(seed_value)"
      ],
      "metadata": {
        "id": "62lgwjrforHZ"
      },
      "id": "62lgwjrforHZ",
      "execution_count": null,
      "outputs": []
    },
    {
      "cell_type": "code",
      "execution_count": null,
      "id": "01dd8632-eec1-42c0-874c-c874a3f58f5e",
      "metadata": {
        "colab": {
          "base_uri": "https://localhost:8080/"
        },
        "id": "01dd8632-eec1-42c0-874c-c874a3f58f5e",
        "outputId": "23c20c80-692d-4194-a81e-34815e019017"
      },
      "outputs": [
        {
          "output_type": "execute_result",
          "data": {
            "text/plain": [
              " message: Optimization terminated successfully.\n",
              " success: True\n",
              "  status: 1\n",
              "     fun: -6.224609375\n",
              "       x: [ 1.186e+00  1.281e+00]\n",
              "    nfev: 29\n",
              "   maxcv: 0.0"
            ]
          },
          "metadata": {},
          "execution_count": 20
        }
      ],
      "source": [
        "p = 1\n",
        "obj = get_black_box_objective(G, p)\n",
        "init_point = np.random.rand(p*2)\n",
        "\n",
        "# Training the QAOA\n",
        "result = minimize(obj, init_point, method='COBYLA', options={'maxiter':200, 'disp': True})\n",
        "result"
      ]
    },
    {
      "cell_type": "code",
      "source": [
        "print(G.number_of_nodes())"
      ],
      "metadata": {
        "colab": {
          "base_uri": "https://localhost:8080/"
        },
        "id": "y2-sPaRxbcB7",
        "outputId": "5322d5d9-4abb-4948-cbcc-3f4878ff12af"
      },
      "id": "y2-sPaRxbcB7",
      "execution_count": null,
      "outputs": [
        {
          "output_type": "stream",
          "name": "stdout",
          "text": [
            "6\n"
          ]
        }
      ]
    },
    {
      "cell_type": "code",
      "execution_count": null,
      "id": "ddcf5522-c5d0-49a7-a512-f366ad7afabc",
      "metadata": {
        "id": "ddcf5522-c5d0-49a7-a512-f366ad7afabc",
        "colab": {
          "base_uri": "https://localhost:8080/"
        },
        "outputId": "563cff9c-eb7d-4486-8aae-992948fa0800"
      },
      "outputs": [
        {
          "output_type": "stream",
          "name": "stdout",
          "text": [
            "Best string: [0 1 1 1 0 0] with cut: 9\n"
          ]
        },
        {
          "output_type": "stream",
          "name": "stderr",
          "text": [
            "<ipython-input-22-2f6e3892e511>:8: DeprecationWarning: `np.bool` is a deprecated alias for the builtin `bool`. To silence this warning, use `bool` by itself. Doing this will not modify any behavior and is safe. If you specifically wanted the numpy scalar type, use `np.bool_` here.\n",
            "Deprecated in NumPy 1.20; for more details and guidance: https://numpy.org/devdocs/release/1.20.0-notes.html#deprecations\n",
            "  yield np.fromiter(map(int, np.binary_repr(n, width=n_qubits)), dtype=np.bool, count=n_qubits)\n"
          ]
        }
      ],
      "source": [
        "from operator import itemgetter\n",
        "n_node = 6\n",
        "def hilbert_iter(n_qubits):\n",
        "    \"\"\"\n",
        "    An iterator over all 2**n_qubits bitstrings in a given hilbert space basis.\n",
        "    \"\"\"\n",
        "    for n in range(2**n_qubits):\n",
        "        yield np.fromiter(map(int, np.binary_repr(n, width=n_qubits)), dtype=np.bool, count=n_qubits)\n",
        "\n",
        "all_config  = 1*np.array(list(hilbert_iter(n_node)), dtype=np.bool_)\n",
        "best_cut, best_solution = min([(maxcut_obj(x,G),x) for x in all_config], key=itemgetter(0))\n",
        "print(f\"Best string: {best_solution} with cut: {-best_cut}\")"
      ]
    }
  ],
  "metadata": {
    "kernelspec": {
      "display_name": "quantum",
      "language": "python",
      "name": "quantum"
    },
    "language_info": {
      "codemirror_mode": {
        "name": "ipython",
        "version": 3
      },
      "file_extension": ".py",
      "mimetype": "text/x-python",
      "name": "python",
      "nbconvert_exporter": "python",
      "pygments_lexer": "ipython3",
      "version": "3.8.10"
    },
    "colab": {
      "provenance": []
    }
  },
  "nbformat": 4,
  "nbformat_minor": 5
}